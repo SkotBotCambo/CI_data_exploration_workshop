{
 "metadata": {
  "name": "",
  "signature": "sha256:1c643eba66fc40bc788d6f79866af34396991a55200bd61aaf9da8fbcceb4883"
 },
 "nbformat": 3,
 "nbformat_minor": 0,
 "worksheets": [
  {
   "cells": [
    {
     "cell_type": "code",
     "collapsed": false,
     "input": [
      "import csv\n",
      "terrVert_loc = 'TV-20140605141210_1231.csv'\n",
      "terrVert = None"
     ],
     "language": "python",
     "metadata": {},
     "outputs": [],
     "prompt_number": 9
    },
    {
     "cell_type": "code",
     "collapsed": false,
     "input": [
      "def csvToList(loc, dataStart, startAtHeader):\n",
      "    '''\n",
      "    method for importing csv to 2d List\n",
      "    '''\n",
      "    data = None\n",
      "    fileIn = open(loc, 'rb') # this is the file input stream itself\n",
      "    lines = fileIn.readlines()\n",
      "    \n",
      "    if startAtHeader:\n",
      "        # print by index\n",
      "        splitHeader = lines[dataStart].split(\",\")\n",
      "        colNum = 0\n",
      "        \n",
      "        for colName in splitHeader:\n",
      "            print str(colNum) + \" : \" + colName\n",
      "            colNum += 1\n",
      "        \n",
      "        #print lines[dataStart]\n",
      "        dataStart = dataStart + 1\n",
      "        \n",
      "    dataLines = lines[dataStart:]\n",
      "    data = list(csv.reader(dataLines, skipinitialspace=True))\n",
      "    data = [i for i in data if i] ## add to deal w/ blank lines in data file\n",
      "    return data"
     ],
     "language": "python",
     "metadata": {},
     "outputs": [],
     "prompt_number": 11
    },
    {
     "cell_type": "code",
     "collapsed": false,
     "input": [
      "import pandas as pd\n"
     ],
     "language": "python",
     "metadata": {},
     "outputs": [],
     "prompt_number": 7
    },
    {
     "cell_type": "code",
     "collapsed": false,
     "input": [
      "tv_panda = pd.read_csv(terrVert_loc, skiprows=62)"
     ],
     "language": "python",
     "metadata": {},
     "outputs": [],
     "prompt_number": 17
    },
    {
     "cell_type": "code",
     "collapsed": false,
     "input": [
      "tv_panda.describe()"
     ],
     "language": "python",
     "metadata": {},
     "outputs": [
      {
       "html": [
        "<div style=\"max-height:1000px;max-width:1500px;overflow:auto;\">\n",
        "<table border=\"1\" class=\"dataframe\">\n",
        "  <thead>\n",
        "    <tr style=\"text-align: right;\">\n",
        "      <th></th>\n",
        "      <th>ID</th>\n",
        "      <th>Latitude</th>\n",
        "      <th>Longitude</th>\n",
        "      <th>Sampling Period</th>\n",
        "      <th>Number of Animals</th>\n",
        "      <th>Memory Card Serial Number</th>\n",
        "      <th>Flash</th>\n",
        "      <th>Temperature</th>\n",
        "    </tr>\n",
        "  </thead>\n",
        "  <tbody>\n",
        "    <tr>\n",
        "      <th>count</th>\n",
        "      <td>   35035.000000</td>\n",
        "      <td> 35035.000000</td>\n",
        "      <td> 35035.000000</td>\n",
        "      <td> 35035.000000</td>\n",
        "      <td> 34090.000000</td>\n",
        "      <td> 35035.000000</td>\n",
        "      <td> 22307.000000</td>\n",
        "      <td> 29228.000000</td>\n",
        "    </tr>\n",
        "    <tr>\n",
        "      <th>mean</th>\n",
        "      <td>  843127.302612</td>\n",
        "      <td>    10.359140</td>\n",
        "      <td>   -84.044203</td>\n",
        "      <td>  2010.210000</td>\n",
        "      <td>     1.494221</td>\n",
        "      <td>  1087.370829</td>\n",
        "      <td>    24.739499</td>\n",
        "      <td>    20.725366</td>\n",
        "    </tr>\n",
        "    <tr>\n",
        "      <th>std</th>\n",
        "      <td>  898891.783352</td>\n",
        "      <td>     0.082652</td>\n",
        "      <td>     0.030001</td>\n",
        "      <td>     2.202147</td>\n",
        "      <td>     0.984126</td>\n",
        "      <td>  3101.501687</td>\n",
        "      <td>     0.438918</td>\n",
        "      <td>     5.776800</td>\n",
        "    </tr>\n",
        "    <tr>\n",
        "      <th>min</th>\n",
        "      <td>   11296.000000</td>\n",
        "      <td>    10.146460</td>\n",
        "      <td>   -84.114878</td>\n",
        "      <td>  2007.010000</td>\n",
        "      <td>     1.000000</td>\n",
        "      <td>     1.000000</td>\n",
        "      <td>    24.000000</td>\n",
        "      <td>     5.000000</td>\n",
        "    </tr>\n",
        "    <tr>\n",
        "      <th>25%</th>\n",
        "      <td>   47146.500000</td>\n",
        "      <td>    10.320353</td>\n",
        "      <td>   -84.059904</td>\n",
        "      <td>  2008.010000</td>\n",
        "      <td>     1.000000</td>\n",
        "      <td>     2.000000</td>\n",
        "      <td>    24.000000</td>\n",
        "      <td>    19.000000</td>\n",
        "    </tr>\n",
        "    <tr>\n",
        "      <th>50%</th>\n",
        "      <td>  205773.000000</td>\n",
        "      <td>    10.396428</td>\n",
        "      <td>   -84.040061</td>\n",
        "      <td>  2010.010000</td>\n",
        "      <td>     1.000000</td>\n",
        "      <td>     9.000000</td>\n",
        "      <td>    25.000000</td>\n",
        "      <td>    21.000000</td>\n",
        "    </tr>\n",
        "    <tr>\n",
        "      <th>75%</th>\n",
        "      <td> 1584074.500000</td>\n",
        "      <td>    10.422310</td>\n",
        "      <td>   -84.021200</td>\n",
        "      <td>  2012.010000</td>\n",
        "      <td>     2.000000</td>\n",
        "      <td>    15.000000</td>\n",
        "      <td>    25.000000</td>\n",
        "      <td>    23.000000</td>\n",
        "    </tr>\n",
        "    <tr>\n",
        "      <th>max</th>\n",
        "      <td> 2303956.000000</td>\n",
        "      <td>    10.443023</td>\n",
        "      <td>   -84.000767</td>\n",
        "      <td>  2013.010000</td>\n",
        "      <td>    14.000000</td>\n",
        "      <td>  9999.000000</td>\n",
        "      <td>    25.000000</td>\n",
        "      <td>    81.000000</td>\n",
        "    </tr>\n",
        "  </tbody>\n",
        "</table>\n",
        "</div>"
       ],
       "metadata": {},
       "output_type": "pyout",
       "prompt_number": 18,
       "text": [
        "                   ID      Latitude     Longitude  Sampling Period  \\\n",
        "count    35035.000000  35035.000000  35035.000000     35035.000000   \n",
        "mean    843127.302612     10.359140    -84.044203      2010.210000   \n",
        "std     898891.783352      0.082652      0.030001         2.202147   \n",
        "min      11296.000000     10.146460    -84.114878      2007.010000   \n",
        "25%      47146.500000     10.320353    -84.059904      2008.010000   \n",
        "50%     205773.000000     10.396428    -84.040061      2010.010000   \n",
        "75%    1584074.500000     10.422310    -84.021200      2012.010000   \n",
        "max    2303956.000000     10.443023    -84.000767      2013.010000   \n",
        "\n",
        "       Number of Animals  Memory Card Serial Number         Flash  \\\n",
        "count       34090.000000               35035.000000  22307.000000   \n",
        "mean            1.494221                1087.370829     24.739499   \n",
        "std             0.984126                3101.501687      0.438918   \n",
        "min             1.000000                   1.000000     24.000000   \n",
        "25%             1.000000                   2.000000     24.000000   \n",
        "50%             1.000000                   9.000000     25.000000   \n",
        "75%             2.000000                  15.000000     25.000000   \n",
        "max            14.000000                9999.000000     25.000000   \n",
        "\n",
        "        Temperature  \n",
        "count  29228.000000  \n",
        "mean      20.725366  \n",
        "std        5.776800  \n",
        "min        5.000000  \n",
        "25%       19.000000  \n",
        "50%       21.000000  \n",
        "75%       23.000000  \n",
        "max       81.000000  "
       ]
      }
     ],
     "prompt_number": 18
    },
    {
     "cell_type": "markdown",
     "metadata": {},
     "source": [
      "#Describe Method()\n",
      "It gives a summary of the data with numeric data (skipping any blank values)"
     ]
    },
    {
     "cell_type": "code",
     "collapsed": false,
     "input": [
      "tv_panda['Species'][1:5] # show first 5 rows of the species column"
     ],
     "language": "python",
     "metadata": {},
     "outputs": [
      {
       "metadata": {},
       "output_type": "pyout",
       "prompt_number": 32,
       "text": [
        "1    tajacu\n",
        "2    tajacu\n",
        "3    tajacu\n",
        "4    tajacu\n",
        "Name: Species, dtype: object"
       ]
      }
     ],
     "prompt_number": 32
    },
    {
     "cell_type": "code",
     "collapsed": false,
     "input": [
      "tv_panda.iloc[[1:3][]]"
     ],
     "language": "python",
     "metadata": {},
     "outputs": [
      {
       "ename": "SyntaxError",
       "evalue": "invalid syntax (<ipython-input-33-8119462fc1f6>, line 1)",
       "output_type": "pyerr",
       "traceback": [
        "\u001b[1;36m  File \u001b[1;32m\"<ipython-input-33-8119462fc1f6>\"\u001b[1;36m, line \u001b[1;32m1\u001b[0m\n\u001b[1;33m    tv_panda.iloc[[1:3][]]\u001b[0m\n\u001b[1;37m                    ^\u001b[0m\n\u001b[1;31mSyntaxError\u001b[0m\u001b[1;31m:\u001b[0m invalid syntax\n"
       ]
      }
     ],
     "prompt_number": 33
    },
    {
     "cell_type": "code",
     "collapsed": false,
     "input": [
      "tv_panda.iloc[3:5, 4:6]"
     ],
     "language": "python",
     "metadata": {},
     "outputs": [
      {
       "html": [
        "<div style=\"max-height:1000px;max-width:1500px;overflow:auto;\">\n",
        "<table border=\"1\" class=\"dataframe\">\n",
        "  <thead>\n",
        "    <tr style=\"text-align: right;\">\n",
        "      <th></th>\n",
        "      <th>Longitude</th>\n",
        "      <th>Sampling Period</th>\n",
        "    </tr>\n",
        "  </thead>\n",
        "  <tbody>\n",
        "    <tr>\n",
        "      <th>3</th>\n",
        "      <td>-84.0212</td>\n",
        "      <td> 2007.01</td>\n",
        "    </tr>\n",
        "    <tr>\n",
        "      <th>4</th>\n",
        "      <td>-84.0212</td>\n",
        "      <td> 2007.01</td>\n",
        "    </tr>\n",
        "  </tbody>\n",
        "</table>\n",
        "</div>"
       ],
       "metadata": {},
       "output_type": "pyout",
       "prompt_number": 34,
       "text": [
        "   Longitude  Sampling Period\n",
        "3   -84.0212          2007.01\n",
        "4   -84.0212          2007.01"
       ]
      }
     ],
     "prompt_number": 34
    },
    {
     "cell_type": "markdown",
     "metadata": {},
     "source": [
      "#finding the photo ID URL with the maximum number of animals!\n",
      "1. We'll start by just getting the subset of data that we need.  We want the 'Number of Animals' column and the 'Photo ID URL' column"
     ]
    },
    {
     "cell_type": "code",
     "collapsed": false,
     "input": [
      "tv_photos_max = tv_panda[tv_panda['Number of Animals'] == tv_panda['Number of Animals'].max()]"
     ],
     "language": "python",
     "metadata": {},
     "outputs": [],
     "prompt_number": 62
    },
    {
     "cell_type": "code",
     "collapsed": false,
     "input": [
      "tv_photos_max['ID']"
     ],
     "language": "python",
     "metadata": {},
     "outputs": [
      {
       "metadata": {},
       "output_type": "pyout",
       "prompt_number": 53,
       "text": [
        "30481    2145847\n",
        "30482    2145772\n",
        "Name: ID, dtype: int64"
       ]
      }
     ],
     "prompt_number": 53
    },
    {
     "cell_type": "markdown",
     "metadata": {},
     "source": [
      "##This shows that there are actually 2 photos with the max number of 14 animals"
     ]
    },
    {
     "cell_type": "code",
     "collapsed": false,
     "input": [
      "photo_url = tv_panda[tv_panda['ID'] == 2145847]\n",
      "photo_url['Photo ID URL']"
     ],
     "language": "python",
     "metadata": {},
     "outputs": [],
     "prompt_number": 54
    },
    {
     "cell_type": "code",
     "collapsed": false,
     "input": [
      "print tv_panda['Photo ID URL'][tv_photos_max['Photo ID URL']]"
     ],
     "language": "python",
     "metadata": {},
     "outputs": [
      {
       "output_type": "stream",
       "stream": "stdout",
       "text": [
        "Photo ID URL\n",
        "http://www.teamnetwork.org/DataDownloadApp/jsp/download/download-img.jsp?id=2145847    NaN\n",
        "http://www.teamnetwork.org/DataDownloadApp/jsp/download/download-img.jsp?id=2145772    NaN\n",
        "Name: Photo ID URL, dtype: object\n"
       ]
      }
     ],
     "prompt_number": 61
    },
    {
     "cell_type": "code",
     "collapsed": false,
     "input": [
      "print tv_panda['Photo ID URL'][30481]"
     ],
     "language": "python",
     "metadata": {},
     "outputs": [
      {
       "output_type": "stream",
       "stream": "stdout",
       "text": [
        "http://www.teamnetwork.org/DataDownloadApp/jsp/download/download-img.jsp?id=2145847\n"
       ]
      }
     ],
     "prompt_number": 57
    },
    {
     "cell_type": "markdown",
     "metadata": {},
     "source": [
      "Now we want to see if there are other photos of this large group of 14 tajacu.  First, we will find the rows that have the top 5 most animals in them and assume that if these photos are within a certain window of time that it must be the same group/herd of tajacu"
     ]
    },
    {
     "cell_type": "markdown",
     "metadata": {},
     "source": [
      "You can find the wiki for tajacu here http://en.wikipedia.org/wiki/Collared_peccary"
     ]
    },
    {
     "cell_type": "code",
     "collapsed": false,
     "input": [
      "tv_panda_sorted = tv_panda.sort(columns='Number of Animals')[['Photo ID URL', 'Species', 'Photo Date', 'Latitude', 'Longitude']]"
     ],
     "language": "python",
     "metadata": {},
     "outputs": [],
     "prompt_number": 69
    },
    {
     "cell_type": "code",
     "collapsed": false,
     "input": [
      "tv_panda_sorted.head()"
     ],
     "language": "python",
     "metadata": {},
     "outputs": [
      {
       "html": [
        "<div style=\"max-height:1000px;max-width:1500px;overflow:auto;\">\n",
        "<table border=\"1\" class=\"dataframe\">\n",
        "  <thead>\n",
        "    <tr style=\"text-align: right;\">\n",
        "      <th></th>\n",
        "      <th>Photo ID URL</th>\n",
        "      <th>Species</th>\n",
        "      <th>Photo Date</th>\n",
        "      <th>Latitude</th>\n",
        "      <th>Longitude</th>\n",
        "    </tr>\n",
        "  </thead>\n",
        "  <tbody>\n",
        "    <tr>\n",
        "      <th>17517</th>\n",
        "      <td> http://www.teamnetwork.org/DataDownloadApp/jsp...</td>\n",
        "      <td>      temama</td>\n",
        "      <td> 2011-04-10</td>\n",
        "      <td> 10.146460</td>\n",
        "      <td>-84.114878</td>\n",
        "    </tr>\n",
        "    <tr>\n",
        "      <th>21412</th>\n",
        "      <td> http://www.teamnetwork.org/DataDownloadApp/jsp...</td>\n",
        "      <td>         dog</td>\n",
        "      <td> 2012-03-07</td>\n",
        "      <td> 10.350989</td>\n",
        "      <td>-84.061743</td>\n",
        "    </tr>\n",
        "    <tr>\n",
        "      <th>21411</th>\n",
        "      <td> http://www.teamnetwork.org/DataDownloadApp/jsp...</td>\n",
        "      <td>         dog</td>\n",
        "      <td> 2012-03-07</td>\n",
        "      <td> 10.350989</td>\n",
        "      <td>-84.061743</td>\n",
        "    </tr>\n",
        "    <tr>\n",
        "      <th>21410</th>\n",
        "      <td> http://www.teamnetwork.org/DataDownloadApp/jsp...</td>\n",
        "      <td>         dog</td>\n",
        "      <td> 2012-03-07</td>\n",
        "      <td> 10.350989</td>\n",
        "      <td>-84.061743</td>\n",
        "    </tr>\n",
        "    <tr>\n",
        "      <th>21409</th>\n",
        "      <td> http://www.teamnetwork.org/DataDownloadApp/jsp...</td>\n",
        "      <td> marsupialis</td>\n",
        "      <td> 2012-03-03</td>\n",
        "      <td> 10.350989</td>\n",
        "      <td>-84.061743</td>\n",
        "    </tr>\n",
        "  </tbody>\n",
        "</table>\n",
        "</div>"
       ],
       "metadata": {},
       "output_type": "pyout",
       "prompt_number": 70,
       "text": [
        "                                            Photo ID URL      Species  \\\n",
        "17517  http://www.teamnetwork.org/DataDownloadApp/jsp...       temama   \n",
        "21412  http://www.teamnetwork.org/DataDownloadApp/jsp...          dog   \n",
        "21411  http://www.teamnetwork.org/DataDownloadApp/jsp...          dog   \n",
        "21410  http://www.teamnetwork.org/DataDownloadApp/jsp...          dog   \n",
        "21409  http://www.teamnetwork.org/DataDownloadApp/jsp...  marsupialis   \n",
        "\n",
        "       Photo Date   Latitude  Longitude  \n",
        "17517  2011-04-10  10.146460 -84.114878  \n",
        "21412  2012-03-07  10.350989 -84.061743  \n",
        "21411  2012-03-07  10.350989 -84.061743  \n",
        "21410  2012-03-07  10.350989 -84.061743  \n",
        "21409  2012-03-03  10.350989 -84.061743  "
       ]
      }
     ],
     "prompt_number": 70
    },
    {
     "cell_type": "code",
     "collapsed": false,
     "input": [
      "tv_panda_sorted.tail()"
     ],
     "language": "python",
     "metadata": {},
     "outputs": [
      {
       "html": [
        "<div style=\"max-height:1000px;max-width:1500px;overflow:auto;\">\n",
        "<table border=\"1\" class=\"dataframe\">\n",
        "  <thead>\n",
        "    <tr style=\"text-align: right;\">\n",
        "      <th></th>\n",
        "      <th>Photo ID URL</th>\n",
        "      <th>Species</th>\n",
        "      <th>Photo Date</th>\n",
        "      <th>Latitude</th>\n",
        "      <th>Longitude</th>\n",
        "    </tr>\n",
        "  </thead>\n",
        "  <tbody>\n",
        "    <tr>\n",
        "      <th>16331</th>\n",
        "      <td> http://www.teamnetwork.org/DataDownloadApp/jsp...</td>\n",
        "      <td> NaN</td>\n",
        "      <td> 2011-02-24</td>\n",
        "      <td> 10.320353</td>\n",
        "      <td>-84.068286</td>\n",
        "    </tr>\n",
        "    <tr>\n",
        "      <th>16330</th>\n",
        "      <td> http://www.teamnetwork.org/DataDownloadApp/jsp...</td>\n",
        "      <td> NaN</td>\n",
        "      <td> 2011-02-24</td>\n",
        "      <td> 10.320353</td>\n",
        "      <td>-84.068286</td>\n",
        "    </tr>\n",
        "    <tr>\n",
        "      <th>16329</th>\n",
        "      <td> http://www.teamnetwork.org/DataDownloadApp/jsp...</td>\n",
        "      <td> NaN</td>\n",
        "      <td> 2011-02-24</td>\n",
        "      <td> 10.320353</td>\n",
        "      <td>-84.068286</td>\n",
        "    </tr>\n",
        "    <tr>\n",
        "      <th>16336</th>\n",
        "      <td> http://www.teamnetwork.org/DataDownloadApp/jsp...</td>\n",
        "      <td> NaN</td>\n",
        "      <td> 2011-02-24</td>\n",
        "      <td> 10.320353</td>\n",
        "      <td>-84.068286</td>\n",
        "    </tr>\n",
        "    <tr>\n",
        "      <th>0    </th>\n",
        "      <td>                                               NaN</td>\n",
        "      <td> NaN</td>\n",
        "      <td>        NaN</td>\n",
        "      <td> 10.422310</td>\n",
        "      <td>-84.021200</td>\n",
        "    </tr>\n",
        "  </tbody>\n",
        "</table>\n",
        "</div>"
       ],
       "metadata": {},
       "output_type": "pyout",
       "prompt_number": 71,
       "text": [
        "                                            Photo ID URL Species  Photo Date  \\\n",
        "16331  http://www.teamnetwork.org/DataDownloadApp/jsp...     NaN  2011-02-24   \n",
        "16330  http://www.teamnetwork.org/DataDownloadApp/jsp...     NaN  2011-02-24   \n",
        "16329  http://www.teamnetwork.org/DataDownloadApp/jsp...     NaN  2011-02-24   \n",
        "16336  http://www.teamnetwork.org/DataDownloadApp/jsp...     NaN  2011-02-24   \n",
        "0                                                    NaN     NaN         NaN   \n",
        "\n",
        "        Latitude  Longitude  \n",
        "16331  10.320353 -84.068286  \n",
        "16330  10.320353 -84.068286  \n",
        "16329  10.320353 -84.068286  \n",
        "16336  10.320353 -84.068286  \n",
        "0      10.422310 -84.021200  "
       ]
      }
     ],
     "prompt_number": 71
    },
    {
     "cell_type": "code",
     "collapsed": false,
     "input": [
      "tv_panda[16331]"
     ],
     "language": "python",
     "metadata": {},
     "outputs": [
      {
       "ename": "KeyError",
       "evalue": "u'no item named 16331'",
       "output_type": "pyerr",
       "traceback": [
        "\u001b[1;31m---------------------------------------------------------------------------\u001b[0m\n\u001b[1;31mKeyError\u001b[0m                                  Traceback (most recent call last)",
        "\u001b[1;32m<ipython-input-72-8b56703c43c3>\u001b[0m in \u001b[0;36m<module>\u001b[1;34m()\u001b[0m\n\u001b[1;32m----> 1\u001b[1;33m \u001b[0mtv_panda\u001b[0m\u001b[1;33m[\u001b[0m\u001b[1;36m16331\u001b[0m\u001b[1;33m]\u001b[0m\u001b[1;33m\u001b[0m\u001b[0m\n\u001b[0m",
        "\u001b[1;32m/usr/lib/python2.7/dist-packages/pandas/core/frame.pyc\u001b[0m in \u001b[0;36m__getitem__\u001b[1;34m(self, key)\u001b[0m\n\u001b[0;32m   2001\u001b[0m             \u001b[1;31m# get column\u001b[0m\u001b[1;33m\u001b[0m\u001b[1;33m\u001b[0m\u001b[0m\n\u001b[0;32m   2002\u001b[0m             \u001b[1;32mif\u001b[0m \u001b[0mself\u001b[0m\u001b[1;33m.\u001b[0m\u001b[0mcolumns\u001b[0m\u001b[1;33m.\u001b[0m\u001b[0mis_unique\u001b[0m\u001b[1;33m:\u001b[0m\u001b[1;33m\u001b[0m\u001b[0m\n\u001b[1;32m-> 2003\u001b[1;33m                 \u001b[1;32mreturn\u001b[0m \u001b[0mself\u001b[0m\u001b[1;33m.\u001b[0m\u001b[0m_get_item_cache\u001b[0m\u001b[1;33m(\u001b[0m\u001b[0mkey\u001b[0m\u001b[1;33m)\u001b[0m\u001b[1;33m\u001b[0m\u001b[0m\n\u001b[0m\u001b[0;32m   2004\u001b[0m \u001b[1;33m\u001b[0m\u001b[0m\n\u001b[0;32m   2005\u001b[0m             \u001b[1;31m# duplicate columns\u001b[0m\u001b[1;33m\u001b[0m\u001b[1;33m\u001b[0m\u001b[0m\n",
        "\u001b[1;32m/usr/lib/python2.7/dist-packages/pandas/core/generic.pyc\u001b[0m in \u001b[0;36m_get_item_cache\u001b[1;34m(self, item)\u001b[0m\n\u001b[0;32m    665\u001b[0m             \u001b[1;32mreturn\u001b[0m \u001b[0mcache\u001b[0m\u001b[1;33m[\u001b[0m\u001b[0mitem\u001b[0m\u001b[1;33m]\u001b[0m\u001b[1;33m\u001b[0m\u001b[0m\n\u001b[0;32m    666\u001b[0m         \u001b[1;32mexcept\u001b[0m \u001b[0mException\u001b[0m\u001b[1;33m:\u001b[0m\u001b[1;33m\u001b[0m\u001b[0m\n\u001b[1;32m--> 667\u001b[1;33m             \u001b[0mvalues\u001b[0m \u001b[1;33m=\u001b[0m \u001b[0mself\u001b[0m\u001b[1;33m.\u001b[0m\u001b[0m_data\u001b[0m\u001b[1;33m.\u001b[0m\u001b[0mget\u001b[0m\u001b[1;33m(\u001b[0m\u001b[0mitem\u001b[0m\u001b[1;33m)\u001b[0m\u001b[1;33m\u001b[0m\u001b[0m\n\u001b[0m\u001b[0;32m    668\u001b[0m             \u001b[0mres\u001b[0m \u001b[1;33m=\u001b[0m \u001b[0mself\u001b[0m\u001b[1;33m.\u001b[0m\u001b[0m_box_item_values\u001b[0m\u001b[1;33m(\u001b[0m\u001b[0mitem\u001b[0m\u001b[1;33m,\u001b[0m \u001b[0mvalues\u001b[0m\u001b[1;33m)\u001b[0m\u001b[1;33m\u001b[0m\u001b[0m\n\u001b[0;32m    669\u001b[0m             \u001b[0mcache\u001b[0m\u001b[1;33m[\u001b[0m\u001b[0mitem\u001b[0m\u001b[1;33m]\u001b[0m \u001b[1;33m=\u001b[0m \u001b[0mres\u001b[0m\u001b[1;33m\u001b[0m\u001b[0m\n",
        "\u001b[1;32m/usr/lib/python2.7/dist-packages/pandas/core/internals.pyc\u001b[0m in \u001b[0;36mget\u001b[1;34m(self, item)\u001b[0m\n\u001b[0;32m   1653\u001b[0m     \u001b[1;32mdef\u001b[0m \u001b[0mget\u001b[0m\u001b[1;33m(\u001b[0m\u001b[0mself\u001b[0m\u001b[1;33m,\u001b[0m \u001b[0mitem\u001b[0m\u001b[1;33m)\u001b[0m\u001b[1;33m:\u001b[0m\u001b[1;33m\u001b[0m\u001b[0m\n\u001b[0;32m   1654\u001b[0m         \u001b[1;32mif\u001b[0m \u001b[0mself\u001b[0m\u001b[1;33m.\u001b[0m\u001b[0mitems\u001b[0m\u001b[1;33m.\u001b[0m\u001b[0mis_unique\u001b[0m\u001b[1;33m:\u001b[0m\u001b[1;33m\u001b[0m\u001b[0m\n\u001b[1;32m-> 1655\u001b[1;33m             \u001b[0m_\u001b[0m\u001b[1;33m,\u001b[0m \u001b[0mblock\u001b[0m \u001b[1;33m=\u001b[0m \u001b[0mself\u001b[0m\u001b[1;33m.\u001b[0m\u001b[0m_find_block\u001b[0m\u001b[1;33m(\u001b[0m\u001b[0mitem\u001b[0m\u001b[1;33m)\u001b[0m\u001b[1;33m\u001b[0m\u001b[0m\n\u001b[0m\u001b[0;32m   1656\u001b[0m             \u001b[1;32mreturn\u001b[0m \u001b[0mblock\u001b[0m\u001b[1;33m.\u001b[0m\u001b[0mget\u001b[0m\u001b[1;33m(\u001b[0m\u001b[0mitem\u001b[0m\u001b[1;33m)\u001b[0m\u001b[1;33m\u001b[0m\u001b[0m\n\u001b[0;32m   1657\u001b[0m         \u001b[1;32melse\u001b[0m\u001b[1;33m:\u001b[0m\u001b[1;33m\u001b[0m\u001b[0m\n",
        "\u001b[1;32m/usr/lib/python2.7/dist-packages/pandas/core/internals.pyc\u001b[0m in \u001b[0;36m_find_block\u001b[1;34m(self, item)\u001b[0m\n\u001b[0;32m   1933\u001b[0m \u001b[1;33m\u001b[0m\u001b[0m\n\u001b[0;32m   1934\u001b[0m     \u001b[1;32mdef\u001b[0m \u001b[0m_find_block\u001b[0m\u001b[1;33m(\u001b[0m\u001b[0mself\u001b[0m\u001b[1;33m,\u001b[0m \u001b[0mitem\u001b[0m\u001b[1;33m)\u001b[0m\u001b[1;33m:\u001b[0m\u001b[1;33m\u001b[0m\u001b[0m\n\u001b[1;32m-> 1935\u001b[1;33m         \u001b[0mself\u001b[0m\u001b[1;33m.\u001b[0m\u001b[0m_check_have\u001b[0m\u001b[1;33m(\u001b[0m\u001b[0mitem\u001b[0m\u001b[1;33m)\u001b[0m\u001b[1;33m\u001b[0m\u001b[0m\n\u001b[0m\u001b[0;32m   1936\u001b[0m         \u001b[1;32mfor\u001b[0m \u001b[0mi\u001b[0m\u001b[1;33m,\u001b[0m \u001b[0mblock\u001b[0m \u001b[1;32min\u001b[0m \u001b[0menumerate\u001b[0m\u001b[1;33m(\u001b[0m\u001b[0mself\u001b[0m\u001b[1;33m.\u001b[0m\u001b[0mblocks\u001b[0m\u001b[1;33m)\u001b[0m\u001b[1;33m:\u001b[0m\u001b[1;33m\u001b[0m\u001b[0m\n\u001b[0;32m   1937\u001b[0m             \u001b[1;32mif\u001b[0m \u001b[0mitem\u001b[0m \u001b[1;32min\u001b[0m \u001b[0mblock\u001b[0m\u001b[1;33m:\u001b[0m\u001b[1;33m\u001b[0m\u001b[0m\n",
        "\u001b[1;32m/usr/lib/python2.7/dist-packages/pandas/core/internals.pyc\u001b[0m in \u001b[0;36m_check_have\u001b[1;34m(self, item)\u001b[0m\n\u001b[0;32m   1940\u001b[0m     \u001b[1;32mdef\u001b[0m \u001b[0m_check_have\u001b[0m\u001b[1;33m(\u001b[0m\u001b[0mself\u001b[0m\u001b[1;33m,\u001b[0m \u001b[0mitem\u001b[0m\u001b[1;33m)\u001b[0m\u001b[1;33m:\u001b[0m\u001b[1;33m\u001b[0m\u001b[0m\n\u001b[0;32m   1941\u001b[0m         \u001b[1;32mif\u001b[0m \u001b[0mitem\u001b[0m \u001b[1;32mnot\u001b[0m \u001b[1;32min\u001b[0m \u001b[0mself\u001b[0m\u001b[1;33m.\u001b[0m\u001b[0mitems\u001b[0m\u001b[1;33m:\u001b[0m\u001b[1;33m\u001b[0m\u001b[0m\n\u001b[1;32m-> 1942\u001b[1;33m             \u001b[1;32mraise\u001b[0m \u001b[0mKeyError\u001b[0m\u001b[1;33m(\u001b[0m\u001b[1;34m'no item named %s'\u001b[0m \u001b[1;33m%\u001b[0m \u001b[0mcom\u001b[0m\u001b[1;33m.\u001b[0m\u001b[0mpprint_thing\u001b[0m\u001b[1;33m(\u001b[0m\u001b[0mitem\u001b[0m\u001b[1;33m)\u001b[0m\u001b[1;33m)\u001b[0m\u001b[1;33m\u001b[0m\u001b[0m\n\u001b[0m\u001b[0;32m   1943\u001b[0m \u001b[1;33m\u001b[0m\u001b[0m\n\u001b[0;32m   1944\u001b[0m     \u001b[1;32mdef\u001b[0m \u001b[0mreindex_axis\u001b[0m\u001b[1;33m(\u001b[0m\u001b[0mself\u001b[0m\u001b[1;33m,\u001b[0m \u001b[0mnew_axis\u001b[0m\u001b[1;33m,\u001b[0m \u001b[0mmethod\u001b[0m\u001b[1;33m=\u001b[0m\u001b[0mNone\u001b[0m\u001b[1;33m,\u001b[0m \u001b[0maxis\u001b[0m\u001b[1;33m=\u001b[0m\u001b[1;36m0\u001b[0m\u001b[1;33m,\u001b[0m \u001b[0mcopy\u001b[0m\u001b[1;33m=\u001b[0m\u001b[0mTrue\u001b[0m\u001b[1;33m)\u001b[0m\u001b[1;33m:\u001b[0m\u001b[1;33m\u001b[0m\u001b[0m\n",
        "\u001b[1;31mKeyError\u001b[0m: u'no item named 16331'"
       ]
      }
     ],
     "prompt_number": 72
    },
    {
     "cell_type": "code",
     "collapsed": false,
     "input": [],
     "language": "python",
     "metadata": {},
     "outputs": []
    }
   ],
   "metadata": {}
  }
 ]
}