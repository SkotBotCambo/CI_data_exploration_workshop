{
 "metadata": {
  "name": "",
  "signature": "sha256:77ca7fecd67310cd8bec83f358b0cff5a8c049be17ea06087c41dcaf8c861720"
 },
 "nbformat": 3,
 "nbformat_minor": 0,
 "worksheets": [
  {
   "cells": [
    {
     "cell_type": "code",
     "collapsed": false,
     "input": [
      "from IPython.core.display import HTML, Javascript\n"
     ],
     "language": "python",
     "metadata": {},
     "outputs": [],
     "prompt_number": 1
    },
    {
     "cell_type": "code",
     "collapsed": false,
     "input": [
      "import csv\n",
      "data_folder = '/home/cambo/Documents/DSSG/conservation_international/data/TEAM-VolcanBrava/'\n",
      "climate_2_loc = 'Climate 2.0/CL-20140607170713_1471.csv'\n",
      "climate_3_loc = 'Climate 3.0/CL-20140607170713_1471.csv'\n",
      "terrVert_loc = 'Terrestrial Vertebrate/TV-20140605141210_1231.csv'\n",
      "\n",
      "climate_2 = None\n",
      "climate_3 = None\n",
      "terrVert = None\n"
     ],
     "language": "python",
     "metadata": {},
     "outputs": [],
     "prompt_number": 2
    },
    {
     "cell_type": "code",
     "collapsed": false,
     "input": [
      "def csvToList(loc, dataStart, startAtHeader):\n",
      "    data = None\n",
      "    fileIn = open(loc, 'rb')\n",
      "    lines = fileIn.readlines()\n",
      "    \n",
      "    if startAtHeader:\n",
      "        # print by index\n",
      "        splitHeader = lines[dataStart].split(\",\")\n",
      "        colNum = 0\n",
      "        \n",
      "        for colName in splitHeader:\n",
      "            print str(colNum) + \" : \" + colName\n",
      "            colNum += 1\n",
      "        \n",
      "        #print lines[dataStart]\n",
      "        dataStart = dataStart + 1\n",
      "        \n",
      "    dataLines = lines[dataStart:]\n",
      "    data = list(csv.reader(dataLines, skipinitialspace=True))\n",
      "    data = [i for i in data if i] ## add to deal w/ blank lines in data file\n",
      "    return data"
     ],
     "language": "python",
     "metadata": {},
     "outputs": [],
     "prompt_number": 3
    },
    {
     "cell_type": "code",
     "collapsed": false,
     "input": [
      "terrVert = csvToList(data_folder+terrVert_loc, 62, True)\n",
      "\"number of lines : \" + str(len(terrVert))"
     ],
     "language": "python",
     "metadata": {},
     "outputs": [
      {
       "output_type": "stream",
       "stream": "stdout",
       "text": [
        "0 : \"ID\"\n",
        "1 : \"Site Name\"\n",
        "2 : \"Sampling Unit Name\"\n",
        "3 : \"Latitude\"\n",
        "4 : \"Longitude\"\n",
        "5 : \"Sampling Period\"\n",
        "6 : \"Photo Type\"\n",
        "7 : \"Photo Date\"\n",
        "8 : \"Photo Time\"\n",
        "9 : \"Raw Name\"\n",
        "10 : \"Photo Notes\"\n",
        "11 : \"Photo ID URL\"\n",
        "12 : \"Class\"\n",
        "13 : \"Order\"\n",
        "14 : \"Family\"\n",
        "15 : \"Genus\"\n",
        "16 : \"Species\"\n",
        "17 : \"Number of Animals\"\n",
        "18 : \"Person Identifying the Photo\"\n",
        "19 : \"Camera Serial Number\"\n",
        "20 : \"Memory Card Serial Number\"\n",
        "21 : \"Camera Notes\"\n",
        "22 : \"Camera Start Date and Time\"\n",
        "23 : \"Camera End Date and Time\"\n",
        "24 : \"Person setting up the Camera\"\n",
        "25 : \"Person picking up the Camera\"\n",
        "26 : \"Camera Make\"\n",
        "27 : \"Camera Model\"\n",
        "28 : \"Flash\"\n",
        "29 : \"Exposure Time\"\n",
        "30 : \"Sequence Info\"\n",
        "31 : \"Triplet Number\"\n",
        "32 : \"Moon Phase\"\n",
        "33 : \"Temperature\"\n",
        "34 : \"Camera Firmware Version\"\n",
        "35 : \"Protocol Version\"\n",
        "36 : \"Data Set Creator Institutions\"\n",
        "37 : \"Data Set Creator Scientist\"\n",
        "38 : \"Data Set Contact\"\n",
        "39 : \"Data Level\"\n",
        "\n"
       ]
      },
      {
       "metadata": {},
       "output_type": "pyout",
       "prompt_number": 12,
       "text": [
        "'number of lines : 35035'"
       ]
      }
     ],
     "prompt_number": 12
    },
    {
     "cell_type": "code",
     "collapsed": false,
     "input": [
      "# get unique lat, long pairs as list of tuples\n",
      "latLongs = [(x[3], x[4]) for x in terrVert] # (latitude, longitude)\n",
      "unique_latLongs = list(set(latLongs))\n",
      "unique_latLongs"
     ],
     "language": "python",
     "metadata": {},
     "outputs": [
      {
       "metadata": {},
       "output_type": "pyout",
       "prompt_number": 13,
       "text": [
        "[('10.3400820629041', '-84.0534428638565'),\n",
        " ('10.3285022957769', '-84.0604474091239'),\n",
        " ('10.1903243673613', '-84.1042798838744'),\n",
        " ('10.2778534479588', '-84.0824611176421'),\n",
        " ('10.3894785005896', '-84.0459552047183'),\n",
        " ('10.2685678995715', '-84.0835496342558'),\n",
        " ('10.4030971297816', '-84.0456081112326'),\n",
        " ('10.2261185316275', '-84.0944986909427'),\n",
        " ('10.4103106684417', '-84.0393262553332'),\n",
        " ('10.2081622222044', '-84.0988111546323'),\n",
        " ('10.346734134112', '-84.0400613603828'),\n",
        " ('10.4038933338481', '-84.0194317197118'),\n",
        " ('10.417770282601', '-84.0352499821799'),\n",
        " ('10.4034232119206', '-84.0330041350524'),\n",
        " ('10.180711090721', '-84.1061448022349'),\n",
        " ('10.3592592377629', '-84.0544132898554'),\n",
        " ('10.4200693255248', '-84.0445356996358'),\n",
        " ('10.2721123127999', '-84.0410595777865'),\n",
        " ('10.1464603596769', '-84.1148778489513'),\n",
        " ('10.2414001518165', '-84.0840720147375'),\n",
        " ('10.295564516748', '-84.0740888688474'),\n",
        " ('10.3220052287274', '-84.0532738545667'),\n",
        " ('10.4264452893562', '-84.0007666763006'),\n",
        " ('10.3413704406651', '-84.0629641879947'),\n",
        " ('10.4130722205488', '-84.0031575574728'),\n",
        " ('10.3800739304686', '-84.0468099700388'),\n",
        " ('10.3203534114485', '-84.0682861855909'),\n",
        " ('10.3151854036649', '-84.0751483139669'),\n",
        " ('10.3059983603692', '-84.0761271021417'),\n",
        " ('10.436189468132', '-84.0217707992132'),\n",
        " ('10.1644873665368', '-84.109281744271'),\n",
        " ('10.1743524403611', '-84.1134147946825'),\n",
        " ('10.3379018237685', '-84.0442128410004'),\n",
        " ('10.1562546044958', '-84.1119999547244'),\n",
        " ('10.2182596456332', '-84.0995950342232'),\n",
        " ('10.3220567728429', '-84.0440964551741'),\n",
        " ('10.4304064372866', '-84.0157485193102'),\n",
        " ('10.2869075249577', '-84.0787476234325'),\n",
        " ('10.2755243142098', '-84.0497017129865'),\n",
        " ('10.3964284244192', '-84.0394845918808'),\n",
        " ('10.4257592570816', '-84.0385871644934'),\n",
        " ('10.2316166263053', '-84.0860492353274'),\n",
        " ('10.3509886813627', '-84.0617434106804'),\n",
        " ('10.4128250765928', '-84.0124669190404'),\n",
        " ('10.4355645258434', '-84.0342054510957'),\n",
        " ('10.2592316723376', '-84.0840273926131'),\n",
        " ('10.31285394408', '-84.0531948591457'),\n",
        " ('10.4286040276019', '-84.0297635872061'),\n",
        " ('10.4223097014897', '-84.0212002357247'),\n",
        " ('10.3129407702509', '-84.0439170571532'),\n",
        " ('10.1991687978107', '-84.0992574210569'),\n",
        " ('10.4148959222088', '-84.0262892935471'),\n",
        " ('10.2789593273961', '-84.0599035690648'),\n",
        " ('10.3703138711098', '-84.0502681619047'),\n",
        " ('10.4196108253294', '-84.0069000301161'),\n",
        " ('10.4430226747777', '-84.0116129580183'),\n",
        " ('10.3493925885769', '-84.0521699580432'),\n",
        " ('10.2507930929331', '-84.0818610380884'),\n",
        " ('10.3311073915516', '-84.0509449043078'),\n",
        " ('10.4037188054765', '-84.011367494126')]"
       ]
      }
     ],
     "prompt_number": 13
    },
    {
     "cell_type": "code",
     "collapsed": false,
     "input": [],
     "language": "python",
     "metadata": {},
     "outputs": []
    }
   ],
   "metadata": {}
  }
 ]
}